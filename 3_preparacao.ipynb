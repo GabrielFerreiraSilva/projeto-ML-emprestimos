{
 "cells": [
  {
   "cell_type": "markdown",
   "metadata": {},
   "source": [
    "# Preparação dos Dados"
   ]
  },
  {
   "cell_type": "markdown",
   "metadata": {},
   "source": [
    "Importação das bibliotecas"
   ]
  },
  {
   "cell_type": "code",
   "execution_count": 1,
   "metadata": {},
   "outputs": [],
   "source": [
    "import pandas as pd\n",
    "from sklearn.model_selection import train_test_split\n",
    "from sklearn.preprocessing import StandardScaler\n",
    "from imblearn.over_sampling import SMOTE\n",
    "import pickle\n",
    "import os"
   ]
  },
  {
   "cell_type": "markdown",
   "metadata": {},
   "source": [
    "Carregamento da base de dados"
   ]
  },
  {
   "cell_type": "code",
   "execution_count": 2,
   "metadata": {},
   "outputs": [],
   "source": [
    "df = pd.read_csv(\"./dataset_tratado.csv\")"
   ]
  },
  {
   "cell_type": "markdown",
   "metadata": {},
   "source": [
    "Transformação das variáveis categóricas em variáeis numéricas"
   ]
  },
  {
   "cell_type": "markdown",
   "metadata": {},
   "source": [
    "Como as colunas categóricas são simplesmente binárias, iremos apenas converter para 0 e 1 sem o uso de nenhum encoder"
   ]
  },
  {
   "cell_type": "code",
   "execution_count": 3,
   "metadata": {},
   "outputs": [],
   "source": [
    "df['is_graduated'] = df['is_graduated'].map({'yes': 1, 'no': 0})\n",
    "df['is_self_employed'] = df['is_self_employed'].map({'yes': 1, 'no': 0})\n",
    "df['loan_status'] = df['loan_status'].map({'approved': 1, 'rejected': 0})"
   ]
  },
  {
   "cell_type": "code",
   "execution_count": 4,
   "metadata": {},
   "outputs": [
    {
     "data": {
      "text/html": [
       "<div>\n",
       "<style scoped>\n",
       "    .dataframe tbody tr th:only-of-type {\n",
       "        vertical-align: middle;\n",
       "    }\n",
       "\n",
       "    .dataframe tbody tr th {\n",
       "        vertical-align: top;\n",
       "    }\n",
       "\n",
       "    .dataframe thead th {\n",
       "        text-align: right;\n",
       "    }\n",
       "</style>\n",
       "<table border=\"1\" class=\"dataframe\">\n",
       "  <thead>\n",
       "    <tr style=\"text-align: right;\">\n",
       "      <th></th>\n",
       "      <th>number_of_dependents</th>\n",
       "      <th>is_graduated</th>\n",
       "      <th>is_self_employed</th>\n",
       "      <th>annual_income</th>\n",
       "      <th>loan_amount</th>\n",
       "      <th>loan_term</th>\n",
       "      <th>credit_score</th>\n",
       "      <th>residential_assets</th>\n",
       "      <th>commercial_assets</th>\n",
       "      <th>luxury_assets</th>\n",
       "      <th>bank_assets</th>\n",
       "      <th>loan_status</th>\n",
       "    </tr>\n",
       "  </thead>\n",
       "  <tbody>\n",
       "    <tr>\n",
       "      <th>0</th>\n",
       "      <td>0</td>\n",
       "      <td>0</td>\n",
       "      <td>1</td>\n",
       "      <td>41000.0</td>\n",
       "      <td>122000.0</td>\n",
       "      <td>8</td>\n",
       "      <td>417</td>\n",
       "      <td>27000.0</td>\n",
       "      <td>22000.0</td>\n",
       "      <td>88000.0</td>\n",
       "      <td>33000.0</td>\n",
       "      <td>0</td>\n",
       "    </tr>\n",
       "    <tr>\n",
       "      <th>1</th>\n",
       "      <td>3</td>\n",
       "      <td>1</td>\n",
       "      <td>0</td>\n",
       "      <td>91000.0</td>\n",
       "      <td>297000.0</td>\n",
       "      <td>20</td>\n",
       "      <td>506</td>\n",
       "      <td>71000.0</td>\n",
       "      <td>45000.0</td>\n",
       "      <td>333000.0</td>\n",
       "      <td>128000.0</td>\n",
       "      <td>0</td>\n",
       "    </tr>\n",
       "    <tr>\n",
       "      <th>2</th>\n",
       "      <td>3</td>\n",
       "      <td>1</td>\n",
       "      <td>0</td>\n",
       "      <td>82000.0</td>\n",
       "      <td>307000.0</td>\n",
       "      <td>8</td>\n",
       "      <td>467</td>\n",
       "      <td>182000.0</td>\n",
       "      <td>33000.0</td>\n",
       "      <td>233000.0</td>\n",
       "      <td>79000.0</td>\n",
       "      <td>0</td>\n",
       "    </tr>\n",
       "    <tr>\n",
       "      <th>3</th>\n",
       "      <td>5</td>\n",
       "      <td>0</td>\n",
       "      <td>1</td>\n",
       "      <td>98000.0</td>\n",
       "      <td>242000.0</td>\n",
       "      <td>20</td>\n",
       "      <td>382</td>\n",
       "      <td>124000.0</td>\n",
       "      <td>82000.0</td>\n",
       "      <td>294000.0</td>\n",
       "      <td>50000.0</td>\n",
       "      <td>0</td>\n",
       "    </tr>\n",
       "    <tr>\n",
       "      <th>4</th>\n",
       "      <td>0</td>\n",
       "      <td>1</td>\n",
       "      <td>1</td>\n",
       "      <td>48000.0</td>\n",
       "      <td>135000.0</td>\n",
       "      <td>10</td>\n",
       "      <td>319</td>\n",
       "      <td>68000.0</td>\n",
       "      <td>83000.0</td>\n",
       "      <td>137000.0</td>\n",
       "      <td>51000.0</td>\n",
       "      <td>0</td>\n",
       "    </tr>\n",
       "  </tbody>\n",
       "</table>\n",
       "</div>"
      ],
      "text/plain": [
       "   number_of_dependents  is_graduated  is_self_employed  annual_income  \\\n",
       "0                     0             0                 1        41000.0   \n",
       "1                     3             1                 0        91000.0   \n",
       "2                     3             1                 0        82000.0   \n",
       "3                     5             0                 1        98000.0   \n",
       "4                     0             1                 1        48000.0   \n",
       "\n",
       "   loan_amount  loan_term  credit_score  residential_assets  \\\n",
       "0     122000.0          8           417             27000.0   \n",
       "1     297000.0         20           506             71000.0   \n",
       "2     307000.0          8           467            182000.0   \n",
       "3     242000.0         20           382            124000.0   \n",
       "4     135000.0         10           319             68000.0   \n",
       "\n",
       "   commercial_assets  luxury_assets  bank_assets  loan_status  \n",
       "0            22000.0        88000.0      33000.0            0  \n",
       "1            45000.0       333000.0     128000.0            0  \n",
       "2            33000.0       233000.0      79000.0            0  \n",
       "3            82000.0       294000.0      50000.0            0  \n",
       "4            83000.0       137000.0      51000.0            0  "
      ]
     },
     "execution_count": 4,
     "metadata": {},
     "output_type": "execute_result"
    }
   ],
   "source": [
    "df.head()"
   ]
  },
  {
   "cell_type": "markdown",
   "metadata": {},
   "source": [
    "Separação dos dados entre as variáveis preditoras e a variável alvo"
   ]
  },
  {
   "cell_type": "code",
   "execution_count": 5,
   "metadata": {},
   "outputs": [],
   "source": [
    "X = df.drop('loan_status', axis=1)\n",
    "y = df['loan_status']"
   ]
  },
  {
   "cell_type": "markdown",
   "metadata": {},
   "source": [
    "Separação dos dados em dados de treinamento e dados de teste. 80% dos dados serão utilizados para treinamento e 20% serão destinados para os testes. A divisão é feita respeitando a proporção entre registros de empréstimo aprovados e reprovados na base de dados"
   ]
  },
  {
   "cell_type": "code",
   "execution_count": 6,
   "metadata": {},
   "outputs": [],
   "source": [
    "X_train, X_test, y_train, y_test = train_test_split(X, y, test_size=0.2, stratify=y, random_state=42)"
   ]
  },
  {
   "cell_type": "markdown",
   "metadata": {},
   "source": [
    "Aplicação da técnica SMOTE para balanceamento dos dados de treinamento"
   ]
  },
  {
   "cell_type": "code",
   "execution_count": 7,
   "metadata": {},
   "outputs": [],
   "source": [
    "smote = SMOTE(random_state=42)\n",
    "X_train_balanced, y_train_balanced = smote.fit_resample(X_train, y_train)"
   ]
  },
  {
   "cell_type": "markdown",
   "metadata": {},
   "source": [
    "Escalonamento dos dados usando Standard Scaler"
   ]
  },
  {
   "cell_type": "code",
   "execution_count": 8,
   "metadata": {},
   "outputs": [],
   "source": [
    "scaler = StandardScaler()\n",
    "X_train_balanced = scaler.fit_transform(X_train_balanced)\n",
    "X_test = scaler.transform(X_test)"
   ]
  },
  {
   "cell_type": "markdown",
   "metadata": {},
   "source": [
    "Os dados de teste foram apenas transformados pelo scaler que foi treinado anteriormente em dados exclusivamente de treinamento"
   ]
  },
  {
   "cell_type": "markdown",
   "metadata": {},
   "source": [
    "Salvando as variáveis já preparadas para treinamento"
   ]
  },
  {
   "cell_type": "code",
   "execution_count": 9,
   "metadata": {},
   "outputs": [],
   "source": [
    "caminho = './Dados Preparados/'\n",
    "\n",
    "if not os.path.exists(caminho):\n",
    "    os.makedirs(caminho)\n",
    "\n",
    "with open(os.path.join(caminho, 'X_train.pkl'), 'wb') as f:\n",
    "    pickle.dump(X_train_balanced, f)\n",
    "\n",
    "with open(os.path.join(caminho, 'y_train.pkl'), 'wb') as f:\n",
    "    pickle.dump(y_train_balanced, f)\n",
    "\n",
    "with open(os.path.join(caminho, 'X_test.pkl'), 'wb') as f:\n",
    "    pickle.dump(X_test, f)\n",
    "\n",
    "with open(os.path.join(caminho, 'y_test.pkl'), 'wb') as f:\n",
    "    pickle.dump(y_test, f)"
   ]
  }
 ],
 "metadata": {
  "kernelspec": {
   "display_name": "Python 3",
   "language": "python",
   "name": "python3"
  },
  "language_info": {
   "codemirror_mode": {
    "name": "ipython",
    "version": 3
   },
   "file_extension": ".py",
   "mimetype": "text/x-python",
   "name": "python",
   "nbconvert_exporter": "python",
   "pygments_lexer": "ipython3",
   "version": "3.12.3"
  }
 },
 "nbformat": 4,
 "nbformat_minor": 2
}
